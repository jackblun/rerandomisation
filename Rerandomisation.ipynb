{
 "cells": [
  {
   "cell_type": "markdown",
   "id": "38fc7f4a",
   "metadata": {},
   "source": [
    "# Rerandomisation\n",
    "\n",
    "This notebook contains simulations to explore the implication of rerandomisation on statistical inference in randomised experiments.\n",
    "\n",
    "## Setup"
   ]
  },
  {
   "cell_type": "code",
   "execution_count": 25,
   "id": "bf21babf",
   "metadata": {},
   "outputs": [],
   "source": [
    "import pandas as pd\n",
    "import numpy as np\n",
    "import seaborn as sns\n",
    "import matplotlib.pyplot as plt\n",
    "from scipy.spatial import distance\n",
    "from scipy.stats import norm, ttest_ind\n",
    "import statsmodels.api as sm\n",
    "import statsmodels.formula.api as smf\n",
    "import copy"
   ]
  },
  {
   "cell_type": "markdown",
   "id": "c3cb2989",
   "metadata": {},
   "source": [
    "## Single experiment example\n",
    "\n",
    "Let's first start out by going through the steps for a single simulated experiment\n",
    "\n",
    "### Simulate data\n",
    "\n",
    "Let's simulate some data. We simulate an experiment with $n$ observations and $k$ covariates, all of which influence the outcome variable."
   ]
  },
  {
   "cell_type": "code",
   "execution_count": 61,
   "id": "d8a4dcf2",
   "metadata": {},
   "outputs": [],
   "source": [
    "n = 5000\n",
    "k = 10"
   ]
  },
  {
   "cell_type": "code",
   "execution_count": 62,
   "id": "930890e7",
   "metadata": {},
   "outputs": [],
   "source": [
    "x = np.random.normal(loc = 0, scale = 1, size = (n,k))"
   ]
  },
  {
   "cell_type": "markdown",
   "id": "54182220",
   "metadata": {},
   "source": [
    "Let's now generate our outcome variable (under control). This is a linear function of the $k$ covariates, with the coefficients themselves uniformly distributed between -1 and 1. We also add on some normal noise."
   ]
  },
  {
   "cell_type": "code",
   "execution_count": 63,
   "id": "4f702555",
   "metadata": {},
   "outputs": [],
   "source": [
    "beta = np.random.uniform(low = -1, high = 1, size = k)"
   ]
  },
  {
   "cell_type": "code",
   "execution_count": 64,
   "id": "0c1c234a",
   "metadata": {},
   "outputs": [],
   "source": [
    "eps = np.random.normal(loc = 0, scale = 0.25, size = n)"
   ]
  },
  {
   "cell_type": "code",
   "execution_count": 65,
   "id": "56973c5b",
   "metadata": {},
   "outputs": [],
   "source": [
    "y = np.dot(x, beta) + eps"
   ]
  },
  {
   "cell_type": "markdown",
   "id": "d7efa6be",
   "metadata": {},
   "source": [
    "Check out the distribution of the outcome variable $y$:"
   ]
  },
  {
   "cell_type": "code",
   "execution_count": 66,
   "id": "6accfbbe",
   "metadata": {},
   "outputs": [
    {
     "data": {
      "text/plain": [
       "<seaborn.axisgrid.FacetGrid at 0x11cc3f1c0>"
      ]
     },
     "execution_count": 66,
     "metadata": {},
     "output_type": "execute_result"
    },
    {
     "data": {
      "image/png": "[encoded data removed]",
      "text/plain": [
       "<Figure size 360x360 with 1 Axes>"
      ]
     },
     "metadata": {
      "needs_background": "light"
     },
     "output_type": "display_data"
    }
   ],
   "source": [
    "sns.displot(y)"
   ]
  },
  {
   "cell_type": "markdown",
   "id": "2a6ad4e8",
   "metadata": {},
   "source": [
    "### Assign treatment\n",
    "\n",
    "Next I assume a 50/50 intervention with a single treatment arm."
   ]
  },
  {
   "cell_type": "code",
   "execution_count": 67,
   "id": "fb45cbe3",
   "metadata": {},
   "outputs": [],
   "source": [
    "t_p = np.random.uniform(low = 0, high = 1, size = n)\n",
    "t = t_p > 0.5"
   ]
  },
  {
   "cell_type": "markdown",
   "id": "2db06a74",
   "metadata": {},
   "source": [
    "I'll add on a hypothetical treatment effect of 1 unit to $y$."
   ]
  },
  {
   "cell_type": "code",
   "execution_count": 72,
   "id": "1e21cb11",
   "metadata": {},
   "outputs": [],
   "source": [
    "y_obs = copy.deepcopy(y)\n",
    "y_obs[t] = y[t] + 1"
   ]
  },
  {
   "cell_type": "markdown",
   "id": "ed55e233",
   "metadata": {},
   "source": [
    "### Estimate treatment effect after single randomisation\n",
    "\n",
    "Before looking at rerandomisation, let's estimate the treatment effect via linear regression. \n",
    "\n",
    "The true treatment effect is zero by construction. We will ignore the covariates in the estimation for now."
   ]
  },
  {
   "cell_type": "code",
   "execution_count": 73,
   "id": "3e6db8b6",
   "metadata": {},
   "outputs": [
    {
     "data": {
      "text/html": [
       "<table class=\"simpletable\">\n",
       "<caption>OLS Regression Results</caption>\n",
       "<tr>\n",
       "  <th>Dep. Variable:</th>            <td>y</td>        <th>  R-squared:         </th> <td>   0.090</td> \n",
       "</tr>\n",
       "<tr>\n",
       "  <th>Model:</th>                   <td>OLS</td>       <th>  Adj. R-squared:    </th> <td>   0.090</td> \n",
       "</tr>\n",
       "<tr>\n",
       "  <th>Method:</th>             <td>Least Squares</td>  <th>  F-statistic:       </th> <td>   492.7</td> \n",
       "</tr>\n",
       "<tr>\n",
       "  <th>Date:</th>             <td>Sat, 19 Mar 2022</td> <th>  Prob (F-statistic):</th> <td>3.52e-104</td>\n",
       "</tr>\n",
       "<tr>\n",
       "  <th>Time:</th>                 <td>13:57:03</td>     <th>  Log-Likelihood:    </th> <td> -9434.0</td> \n",
       "</tr>\n",
       "<tr>\n",
       "  <th>No. Observations:</th>      <td>  5000</td>      <th>  AIC:               </th> <td>1.887e+04</td>\n",
       "</tr>\n",
       "<tr>\n",
       "  <th>Df Residuals:</th>          <td>  4998</td>      <th>  BIC:               </th> <td>1.889e+04</td>\n",
       "</tr>\n",
       "<tr>\n",
       "  <th>Df Model:</th>              <td>     1</td>      <th>                     </th>     <td> </td>    \n",
       "</tr>\n",
       "<tr>\n",
       "  <th>Covariance Type:</th>         <td>HC1</td>       <th>                     </th>     <td> </td>    \n",
       "</tr>\n",
       "</table>\n",
       "<table class=\"simpletable\">\n",
       "<tr>\n",
       "      <td></td>         <th>coef</th>     <th>std err</th>      <th>z</th>      <th>P>|z|</th>  <th>[0.025</th>    <th>0.975]</th>  \n",
       "</tr>\n",
       "<tr>\n",
       "  <th>Intercept</th> <td>   -0.0200</td> <td>    0.032</td> <td>   -0.626</td> <td> 0.532</td> <td>   -0.082</td> <td>    0.043</td>\n",
       "</tr>\n",
       "<tr>\n",
       "  <th>t[T.True]</th> <td>    1.0024</td> <td>    0.045</td> <td>   22.196</td> <td> 0.000</td> <td>    0.914</td> <td>    1.091</td>\n",
       "</tr>\n",
       "</table>\n",
       "<table class=\"simpletable\">\n",
       "<tr>\n",
       "  <th>Omnibus:</th>       <td> 0.211</td> <th>  Durbin-Watson:     </th> <td>   2.038</td>\n",
       "</tr>\n",
       "<tr>\n",
       "  <th>Prob(Omnibus):</th> <td> 0.900</td> <th>  Jarque-Bera (JB):  </th> <td>   0.239</td>\n",
       "</tr>\n",
       "<tr>\n",
       "  <th>Skew:</th>          <td>-0.013</td> <th>  Prob(JB):          </th> <td>   0.887</td>\n",
       "</tr>\n",
       "<tr>\n",
       "  <th>Kurtosis:</th>      <td> 2.977</td> <th>  Cond. No.          </th> <td>    2.60</td>\n",
       "</tr>\n",
       "</table><br/><br/>Notes:<br/>[1] Standard Errors are heteroscedasticity robust (HC1)"
      ],
      "text/plain": [
       "<class 'statsmodels.iolib.summary.Summary'>\n",
       "\"\"\"\n",
       "                            OLS Regression Results                            \n",
       "==============================================================================\n",
       "Dep. Variable:                      y   R-squared:                       0.090\n",
       "Model:                            OLS   Adj. R-squared:                  0.090\n",
       "Method:                 Least Squares   F-statistic:                     492.7\n",
       "Date:                Sat, 19 Mar 2022   Prob (F-statistic):          3.52e-104\n",
       "Time:                        13:57:03   Log-Likelihood:                -9434.0\n",
       "No. Observations:                5000   AIC:                         1.887e+04\n",
       "Df Residuals:                    4998   BIC:                         1.889e+04\n",
       "Df Model:                           1                                         \n",
       "Covariance Type:                  HC1                                         \n",
       "==============================================================================\n",
       "                 coef    std err          z      P>|z|      [0.025      0.975]\n",
       "------------------------------------------------------------------------------\n",
       "Intercept     -0.0200      0.032     -0.626      0.532      -0.082       0.043\n",
       "t[T.True]      1.0024      0.045     22.196      0.000       0.914       1.091\n",
       "==============================================================================\n",
       "Omnibus:                        0.211   Durbin-Watson:                   2.038\n",
       "Prob(Omnibus):                  0.900   Jarque-Bera (JB):                0.239\n",
       "Skew:                          -0.013   Prob(JB):                        0.887\n",
       "Kurtosis:                       2.977   Cond. No.                         2.60\n",
       "==============================================================================\n",
       "\n",
       "Notes:\n",
       "[1] Standard Errors are heteroscedasticity robust (HC1)\n",
       "\"\"\""
      ]
     },
     "execution_count": 73,
     "metadata": {},
     "output_type": "execute_result"
    }
   ],
   "source": [
    "reg_dat = pd.DataFrame(data = {'y': y_obs, 't': t})\n",
    "mod = smf.ols(formula = 'y ~ t', data = reg_dat)\n",
    "res = mod.fit(cov_type='HC1')\n",
    "res.summary()"
   ]
  },
  {
   "cell_type": "markdown",
   "id": "99055256",
   "metadata": {},
   "source": [
    "### Calculate distance\n",
    "\n",
    "As the first step towards rerandomisation, next we need to work out how dissimilar our treatment and control groups are in terms of their mean covariate values. Lets take the euclidian distance. For two $n$-dimensional vectors $x_0$ and $x_1$, this is defined as:\n",
    "\n",
    "$$ d = \\sqrt ( (x_0(1) - x_1(1))^2 + (x_0(2) - x_1(2))^2 + ... + (x_0(n) - x_1(n))^2) $$"
   ]
  },
  {
   "cell_type": "code",
   "execution_count": 20,
   "id": "5bd565d4",
   "metadata": {},
   "outputs": [
    {
     "data": {
      "text/plain": [
       "0.058232395581896725"
      ]
     },
     "execution_count": 20,
     "metadata": {},
     "output_type": "execute_result"
    }
   ],
   "source": [
    "x0 = x[~t]\n",
    "x1 = x[t]\n",
    "x0_bar = np.mean(x0, axis = 0)\n",
    "x1_bar = np.mean(x1, axis = 0)\n",
    "\n",
    "sq_devs = np.power(x0_bar - x1_bar, 2)\n",
    "distance = np.sqrt(np.sum(sq_devs))\n",
    "distance"
   ]
  },
  {
   "cell_type": "markdown",
   "id": "2e8c543d",
   "metadata": {},
   "source": [
    "### Rerandomise until balance achieved\n",
    "\n",
    "Lets now rerandomise until we achieve a fixed level of balance.\n",
    "\n",
    "First, fix the criteria (tolerance) required for balance."
   ]
  },
  {
   "cell_type": "code",
   "execution_count": 42,
   "id": "7bd6c8d4",
   "metadata": {},
   "outputs": [],
   "source": [
    "tol = 0.05"
   ]
  },
  {
   "cell_type": "markdown",
   "id": "12f1b091",
   "metadata": {},
   "source": [
    "Now, rerandomise until that criteria is met:"
   ]
  },
  {
   "cell_type": "code",
   "execution_count": 75,
   "id": "b59a4497",
   "metadata": {},
   "outputs": [
    {
     "name": "stdout",
     "output_type": "stream",
     "text": [
      "8 randomisations needed to achieve balance with tolerance 0.05\n"
     ]
    }
   ],
   "source": [
    "max_reps = 1000\n",
    "\n",
    "for i in range(max_reps):\n",
    "    t_p = np.random.uniform(low = 0, high = 1, size = n)\n",
    "    t = t_p > 0.5\n",
    "    \n",
    "    x0 = x[~t]\n",
    "    x1 = x[t]\n",
    "    x0_bar = np.mean(x0, axis = 0)\n",
    "    x1_bar = np.mean(x1, axis = 0)\n",
    "\n",
    "    sq_devs = np.power(x0_bar - x1_bar, 2)\n",
    "    distance = np.sqrt(np.sum(sq_devs))\n",
    "    if distance < tol:\n",
    "        print(str(i) + \" randomisations needed to achieve balance with tolerance \" + str(tol))\n",
    "        break\n"
   ]
  },
  {
   "cell_type": "markdown",
   "id": "2e70c3a7",
   "metadata": {},
   "source": [
    "### Estimate treatment effect on rerandomised data\n",
    "\n",
    "Finally, re-estimate the treatment effect using the assignment found via rerandomisation. Again, the true treatment effect is known as zero and we ignore covariates."
   ]
  },
  {
   "cell_type": "code",
   "execution_count": 76,
   "id": "c53c11fd",
   "metadata": {},
   "outputs": [
    {
     "data": {
      "text/html": [
       "<table class=\"simpletable\">\n",
       "<caption>OLS Regression Results</caption>\n",
       "<tr>\n",
       "  <th>Dep. Variable:</th>            <td>y</td>        <th>  R-squared:         </th> <td>   0.090</td> \n",
       "</tr>\n",
       "<tr>\n",
       "  <th>Model:</th>                   <td>OLS</td>       <th>  Adj. R-squared:    </th> <td>   0.089</td> \n",
       "</tr>\n",
       "<tr>\n",
       "  <th>Method:</th>             <td>Least Squares</td>  <th>  F-statistic:       </th> <td>   491.9</td> \n",
       "</tr>\n",
       "<tr>\n",
       "  <th>Date:</th>             <td>Sat, 19 Mar 2022</td> <th>  Prob (F-statistic):</th> <td>5.03e-104</td>\n",
       "</tr>\n",
       "<tr>\n",
       "  <th>Time:</th>                 <td>13:57:42</td>     <th>  Log-Likelihood:    </th> <td> -9434.0</td> \n",
       "</tr>\n",
       "<tr>\n",
       "  <th>No. Observations:</th>      <td>  5000</td>      <th>  AIC:               </th> <td>1.887e+04</td>\n",
       "</tr>\n",
       "<tr>\n",
       "  <th>Df Residuals:</th>          <td>  4998</td>      <th>  BIC:               </th> <td>1.889e+04</td>\n",
       "</tr>\n",
       "<tr>\n",
       "  <th>Df Model:</th>              <td>     1</td>      <th>                     </th>     <td> </td>    \n",
       "</tr>\n",
       "<tr>\n",
       "  <th>Covariance Type:</th>         <td>HC1</td>       <th>                     </th>     <td> </td>    \n",
       "</tr>\n",
       "</table>\n",
       "<table class=\"simpletable\">\n",
       "<tr>\n",
       "      <td></td>         <th>coef</th>     <th>std err</th>      <th>z</th>      <th>P>|z|</th>  <th>[0.025</th>    <th>0.975]</th>  \n",
       "</tr>\n",
       "<tr>\n",
       "  <th>Intercept</th> <td>   -0.0196</td> <td>    0.032</td> <td>   -0.615</td> <td> 0.539</td> <td>   -0.082</td> <td>    0.043</td>\n",
       "</tr>\n",
       "<tr>\n",
       "  <th>t[T.True]</th> <td>    1.0017</td> <td>    0.045</td> <td>   22.178</td> <td> 0.000</td> <td>    0.913</td> <td>    1.090</td>\n",
       "</tr>\n",
       "</table>\n",
       "<table class=\"simpletable\">\n",
       "<tr>\n",
       "  <th>Omnibus:</th>       <td> 0.212</td> <th>  Durbin-Watson:     </th> <td>   2.038</td>\n",
       "</tr>\n",
       "<tr>\n",
       "  <th>Prob(Omnibus):</th> <td> 0.899</td> <th>  Jarque-Bera (JB):  </th> <td>   0.241</td>\n",
       "</tr>\n",
       "<tr>\n",
       "  <th>Skew:</th>          <td>-0.013</td> <th>  Prob(JB):          </th> <td>   0.887</td>\n",
       "</tr>\n",
       "<tr>\n",
       "  <th>Kurtosis:</th>      <td> 2.977</td> <th>  Cond. No.          </th> <td>    2.60</td>\n",
       "</tr>\n",
       "</table><br/><br/>Notes:<br/>[1] Standard Errors are heteroscedasticity robust (HC1)"
      ],
      "text/plain": [
       "<class 'statsmodels.iolib.summary.Summary'>\n",
       "\"\"\"\n",
       "                            OLS Regression Results                            \n",
       "==============================================================================\n",
       "Dep. Variable:                      y   R-squared:                       0.090\n",
       "Model:                            OLS   Adj. R-squared:                  0.089\n",
       "Method:                 Least Squares   F-statistic:                     491.9\n",
       "Date:                Sat, 19 Mar 2022   Prob (F-statistic):          5.03e-104\n",
       "Time:                        13:57:42   Log-Likelihood:                -9434.0\n",
       "No. Observations:                5000   AIC:                         1.887e+04\n",
       "Df Residuals:                    4998   BIC:                         1.889e+04\n",
       "Df Model:                           1                                         \n",
       "Covariance Type:                  HC1                                         \n",
       "==============================================================================\n",
       "                 coef    std err          z      P>|z|      [0.025      0.975]\n",
       "------------------------------------------------------------------------------\n",
       "Intercept     -0.0196      0.032     -0.615      0.539      -0.082       0.043\n",
       "t[T.True]      1.0017      0.045     22.178      0.000       0.913       1.090\n",
       "==============================================================================\n",
       "Omnibus:                        0.212   Durbin-Watson:                   2.038\n",
       "Prob(Omnibus):                  0.899   Jarque-Bera (JB):                0.241\n",
       "Skew:                          -0.013   Prob(JB):                        0.887\n",
       "Kurtosis:                       2.977   Cond. No.                         2.60\n",
       "==============================================================================\n",
       "\n",
       "Notes:\n",
       "[1] Standard Errors are heteroscedasticity robust (HC1)\n",
       "\"\"\""
      ]
     },
     "execution_count": 76,
     "metadata": {},
     "output_type": "execute_result"
    }
   ],
   "source": [
    "y_obs = copy.deepcopy(y)\n",
    "y_obs[t] = y[t] + 1\n",
    "\n",
    "reg_dat = pd.DataFrame(data = {'y': y_obs, 't': t})\n",
    "mod = smf.ols(formula = 'y ~ t', data = reg_dat)\n",
    "res = mod.fit(cov_type='HC1')\n",
    "res.summary()"
   ]
  },
  {
   "cell_type": "markdown",
   "id": "64e0c73d",
   "metadata": {},
   "source": [
    "## Full simulation\n",
    "\n",
    "The above was for a single experiment. To identify the effect of rerandomisation on average, let's follow the same process for a large number of simulated experiments. We can then inspect the estimated treatment effects and estimated standard errors.\n",
    "\n",
    "Lets run the simulations, generating treatment effect estimates and estimated standard errors."
   ]
  },
  {
   "cell_type": "code",
   "execution_count": 185,
   "id": "4be9a4bb",
   "metadata": {},
   "outputs": [
    {
     "name": "stdout",
     "output_type": "stream",
     "text": [
      "sim 1000 of 1000\r"
     ]
    }
   ],
   "source": [
    "numsims = 1000\n",
    "max_reps = 1000\n",
    "ests = np.empty(shape = (numsims, 4))\n",
    "\n",
    "for i in range(numsims):\n",
    "    print (\"sim \" + str(i + 1) + \" of \" + str(numsims), end=\"\\r\")\n",
    "    for j in range(numreps):\n",
    "        t_p = np.random.uniform(low = 0, high = 1, size = n)\n",
    "        t = t_p > 0.5\n",
    "\n",
    "        y_obs = copy.deepcopy(y)\n",
    "        y_obs[t] = y[t] + 1\n",
    "        \n",
    "        # use first randomisation for baseline estimates\n",
    "        if j == 0:\n",
    "            reg_dat = pd.DataFrame(data = {'y': y_obs, 't': t})\n",
    "            mod = smf.ols(formula = 'y ~ t', data = reg_dat)\n",
    "            res = mod.fit(cov_type='HC1')\n",
    "            ests[i, 0] = res.params[1]\n",
    "            ests[i, 1] = res.HC1_se[1]            \n",
    "\n",
    "        # calculate distance and rerandomise if needed\n",
    "        x0 = x[~t]\n",
    "        x1 = x[t]\n",
    "        x0_bar = np.mean(x0, axis = 0)\n",
    "        x1_bar = np.mean(x1, axis = 0)\n",
    "\n",
    "        sq_devs = np.power(x0_bar - x1_bar, 2)\n",
    "        distance = np.sqrt(np.sum(sq_devs))\n",
    "            \n",
    "        if distance < tol:\n",
    "            reg_dat = pd.DataFrame(data = {'y': y_obs, 't': t})\n",
    "            mod = smf.ols(formula = 'y ~ t', data = reg_dat)\n",
    "            res = mod.fit(cov_type='HC1')\n",
    "            ests[i, 2] = res.params[1]\n",
    "            ests[i, 3] = res.HC1_se[1]\n",
    "            break\n",
    "        \n",
    "        if (j == max_reps - 1):\n",
    "            print(\"Did not achieve balance, adjust max_reps or tol\")"
   ]
  },
  {
   "cell_type": "code",
   "execution_count": 186,
   "id": "9b39245c",
   "metadata": {},
   "outputs": [],
   "source": [
    "ests_df = pd.DataFrame(ests, columns=['est_single', 'se_single', 'est_rerand', 'se_rerand'])\n",
    "ests_df_wide = ests_df.melt()"
   ]
  },
  {
   "cell_type": "markdown",
   "id": "38a70084",
   "metadata": {},
   "source": [
    "Let's now take a look at the estimates, starting with the treatment effect estimates:"
   ]
  },
  {
   "cell_type": "code",
   "execution_count": 187,
   "id": "9e6c800c",
   "metadata": {},
   "outputs": [
    {
     "data": {
      "text/plain": [
       "<matplotlib.legend.Legend at 0x12cf04670>"
      ]
     },
     "execution_count": 187,
     "metadata": {},
     "output_type": "execute_result"
    },
    {
     "data": {
      "image/png": "[encoded data removed]",
      "text/plain": [
       "<Figure size 360x360 with 1 Axes>"
      ]
     },
     "metadata": {
      "needs_background": "light"
     },
     "output_type": "display_data"
    }
   ],
   "source": [
    "sns.displot(ests_df_wide.loc[ests_df_wide['variable'].isin(['est_single','est_rerand'])], \n",
    "                x = 'value', hue = 'variable', legend=False)\n",
    "plt.legend(labels=[\"Rerandomised\",\"Baseline\"])"
   ]
  },
  {
   "cell_type": "markdown",
   "id": "e09273e5",
   "metadata": {},
   "source": [
    "The estimates are clearly tighter after re-randomisation.\n",
    "\n",
    "Now let's look at the estimated standard errors:"
   ]
  },
  {
   "cell_type": "code",
   "execution_count": 188,
   "id": "bbdbb6e5",
   "metadata": {},
   "outputs": [
    {
     "data": {
      "text/plain": [
       "<matplotlib.legend.Legend at 0x12cebc220>"
      ]
     },
     "execution_count": 188,
     "metadata": {},
     "output_type": "execute_result"
    },
    {
     "data": {
      "image/png": "[encoded data removed]",
      "text/plain": [
       "<Figure size 360x360 with 1 Axes>"
      ]
     },
     "metadata": {
      "needs_background": "light"
     },
     "output_type": "display_data"
    }
   ],
   "source": [
    "sns.displot(ests_df_wide.loc[ests_df_wide['variable'].isin(['se_single','se_rerand'])], \n",
    "                x = 'value', hue = 'variable', legend=False)\n",
    "plt.legend(labels=[\"Rerandomised\",\"Baseline\"])"
   ]
  },
  {
   "cell_type": "markdown",
   "id": "f30d4bb7",
   "metadata": {},
   "source": [
    "The estimated standard errors in the rerandomised version are actually slightly higher (0.8%) than the standard version! Above we showed that the true standard errors are lower in the rerandomised version.\n",
    "\n",
    "This is because the HC1 variance estimator uses within-group variance as to estimate the treatment effect variation. The balancing pushes this variance up!"
   ]
  },
  {
   "cell_type": "code",
   "execution_count": 197,
   "id": "85ed708f",
   "metadata": {},
   "outputs": [
    {
     "name": "stdout",
     "output_type": "stream",
     "text": [
      "Ttest_indResult(statistic=-5.157644389579263, pvalue=2.7480068042730184e-07)\n",
      "0.007837155888945624\n"
     ]
    }
   ],
   "source": [
    "print(ttest_ind(ests_df['se_single'], ests_df['se_rerand']))\n",
    "\n",
    "print(100*(np.mean(ests_df['se_rerand'])/np.mean(ests_df['se_single']) - 1))"
   ]
  },
  {
   "cell_type": "markdown",
   "id": "b8ca630a",
   "metadata": {},
   "source": [
    "\n",
    "Now lets look at the t-statistics to get a better view of whether inference is valid. To do this, lets simulate again, but this time not add on any treatment effect. The t-statistics should be standard normal distributed."
   ]
  },
  {
   "cell_type": "code",
   "execution_count": 163,
   "id": "bc79dd96",
   "metadata": {},
   "outputs": [
    {
     "name": "stdout",
     "output_type": "stream",
     "text": [
      "sim 1000 of 1000\r"
     ]
    }
   ],
   "source": [
    "t_stats = np.empty(shape = (numsims, 2))\n",
    "\n",
    "for i in range(numsims):\n",
    "    print (\"sim \" + str(i + 1) + \" of \" + str(numsims), end=\"\\r\")\n",
    "    for j in range(numreps):\n",
    "        t_p = np.random.uniform(low = 0, high = 1, size = n)\n",
    "        t = t_p > 0.5\n",
    "\n",
    "        y_obs = copy.deepcopy(y)\n",
    "        \n",
    "        # use first randomisation for baseline estimates\n",
    "        if j == 0:\n",
    "            reg_dat = pd.DataFrame(data = {'y': y_obs, 't': t})\n",
    "            mod = smf.ols(formula = 'y ~ t', data = reg_dat)\n",
    "            res = mod.fit(cov_type='HC1')\n",
    "            t_stats[i, 0] = res.params[1]/res.HC1_se[1]   \n",
    "\n",
    "        # calculate distance and rerandomise if needed\n",
    "        x0 = x[~t]\n",
    "        x1 = x[t]\n",
    "        x0_bar = np.mean(x0, axis = 0)\n",
    "        x1_bar = np.mean(x1, axis = 0)\n",
    "\n",
    "        sq_devs = np.power(x0_bar - x1_bar, 2)\n",
    "        distance = np.sqrt(np.sum(sq_devs))\n",
    "            \n",
    "        if distance < tol:\n",
    "            reg_dat = pd.DataFrame(data = {'y': y_obs, 't': t})\n",
    "            mod = smf.ols(formula = 'y ~ t', data = reg_dat)\n",
    "            res = mod.fit(cov_type='HC1')\n",
    "            t_stats[i, 1] = res.params[1]/res.HC1_se[1]   \n",
    "\n",
    "            break\n",
    "        \n",
    "        if (j == max_reps - 1):\n",
    "            print(\"Did not achieve balance, adjust max_reps or tol\")"
   ]
  },
  {
   "cell_type": "code",
   "execution_count": 177,
   "id": "cffe3027",
   "metadata": {},
   "outputs": [
    {
     "data": {
      "text/plain": [
       "<matplotlib.legend.Legend at 0x12b6ae590>"
      ]
     },
     "execution_count": 177,
     "metadata": {},
     "output_type": "execute_result"
    },
    {
     "data": {
      "image/png": "[encoded data removed]",
      "text/plain": [
       "<Figure size 360x360 with 1 Axes>"
      ]
     },
     "metadata": {
      "needs_background": "light"
     },
     "output_type": "display_data"
    }
   ],
   "source": [
    "t_stats_df = pd.DataFrame(t_stats, columns=['t_single', 't_rerand'])\n",
    "t_stats_df['standard_normal'] = np.random.normal(loc = 0, scale = 1, size = numsims)\n",
    "t_stats_df_wide = t_stats_df.melt()\n",
    "sns.displot(t_stats_df_wide, x = 'value', hue = 'variable', kind = 'kde', bw_adjust = 2, legend = False)\n",
    "plt.legend(labels=[\"Baseline\", \"Rerandomised\", \"Standard Normal\"])"
   ]
  },
  {
   "cell_type": "markdown",
   "id": "26bf5196",
   "metadata": {},
   "source": [
    "So while the treatment effect estimates are more precise, this is not reflected in the estimated standard errors so a naive inference approach is no longer valid. "
   ]
  },
  {
   "cell_type": "code",
   "execution_count": null,
   "id": "57c1b1ba",
   "metadata": {},
   "outputs": [],
   "source": []
  }
 ],
 "metadata": {
  "kernelspec": {
   "display_name": "Python 3 (ipykernel)",
   "language": "python",
   "name": "python3"
  },
  "language_info": {
   "codemirror_mode": {
    "name": "ipython",
    "version": 3
   },
   "file_extension": ".py",
   "mimetype": "text/x-python",
   "name": "python",
   "nbconvert_exporter": "python",
   "pygments_lexer": "ipython3",
   "version": "3.10.3"
  }
 },
 "nbformat": 4,
 "nbformat_minor": 5
}
